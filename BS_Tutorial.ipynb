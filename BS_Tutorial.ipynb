{
 "cells": [
  {
   "cell_type": "code",
   "execution_count": 5,
   "metadata": {},
   "outputs": [],
   "source": [
    "from bs4 import BeautifulSoup as bs\n",
    "import requests"
   ]
  },
  {
   "cell_type": "code",
   "execution_count": 6,
   "metadata": {},
   "outputs": [],
   "source": [
    "result=requests.get(\"https://www.google.com\")"
   ]
  },
  {
   "cell_type": "code",
   "execution_count": 7,
   "metadata": {},
   "outputs": [
    {
     "name": "stdout",
     "output_type": "stream",
     "text": [
      "200\n"
     ]
    }
   ],
   "source": [
    "print(result.status_code)"
   ]
  },
  {
   "cell_type": "code",
   "execution_count": 8,
   "metadata": {},
   "outputs": [
    {
     "name": "stdout",
     "output_type": "stream",
     "text": [
      "{'Date': 'Sat, 21 Dec 2019 21:49:44 GMT', 'Expires': '-1', 'Cache-Control': 'private, max-age=0', 'Content-Type': 'text/html; charset=ISO-8859-1', 'P3P': 'CP=\"This is not a P3P policy! See g.co/p3phelp for more info.\"', 'Content-Encoding': 'gzip', 'Server': 'gws', 'X-XSS-Protection': '0', 'X-Frame-Options': 'SAMEORIGIN', 'Set-Cookie': '1P_JAR=2019-12-21-21; expires=Mon, 20-Jan-2020 21:49:44 GMT; path=/; domain=.google.com, NID=194=KshGiivBpB3ZYpTszmd384jsqLiJwFwMyILEN_3_vWWNB8kqocGAbkLYG02p_kAxmQyCrQ8kZVhOTqCyx7cTXvQbP_qFlMWurfe6DYCHoWsq9FvwlgndcmBkYqX7K6blCVmTfnGvHh_ibIUiT6hMedjPMD9g2zg5daesXqLnBho; expires=Sun, 21-Jun-2020 21:49:44 GMT; path=/; domain=.google.com; HttpOnly', 'Alt-Svc': 'quic=\":443\"; ma=2592000; v=\"46,43\",h3-Q050=\":443\"; ma=2592000,h3-Q049=\":443\"; ma=2592000,h3-Q048=\":443\"; ma=2592000,h3-Q046=\":443\"; ma=2592000,h3-Q043=\":443\"; ma=2592000', 'Transfer-Encoding': 'chunked'}\n"
     ]
    }
   ],
   "source": [
    "print(result.headers)"
   ]
  },
  {
   "cell_type": "code",
   "execution_count": 7,
   "metadata": {},
   "outputs": [],
   "source": [
    "#Now, let us store the page content of the websiet access\n",
    "#from requests to a variable:\n",
    "src=result.content\n",
    "#print(src)"
   ]
  },
  {
   "cell_type": "code",
   "execution_count": 8,
   "metadata": {},
   "outputs": [],
   "source": [
    "#Now that we have the page source stored, we can use BeautifulSoup module to parse and process the source.\n",
    "#To do this, we need to create a BeautifulSoup object based on the source variable.\n",
    "soup = bs(src, 'lxml')"
   ]
  },
  {
   "cell_type": "code",
   "execution_count": 10,
   "metadata": {},
   "outputs": [
    {
     "name": "stdout",
     "output_type": "stream",
     "text": [
      "[<a class=\"gb1\" href=\"https://www.google.com/imghp?hl=en&amp;tab=wi\">Images</a>, <a class=\"gb1\" href=\"https://maps.google.com/maps?hl=en&amp;tab=wl\">Maps</a>, <a class=\"gb1\" href=\"https://play.google.com/?hl=en&amp;tab=w8\">Play</a>, <a class=\"gb1\" href=\"https://www.youtube.com/?gl=US&amp;tab=w1\">YouTube</a>, <a class=\"gb1\" href=\"https://news.google.com/nwshp?hl=en&amp;tab=wn\">News</a>, <a class=\"gb1\" href=\"https://mail.google.com/mail/?tab=wm\">Gmail</a>, <a class=\"gb1\" href=\"https://drive.google.com/?tab=wo\">Drive</a>, <a class=\"gb1\" href=\"https://www.google.com/intl/en/about/products?tab=wh\" style=\"text-decoration:none\"><u>More</u> »</a>, <a class=\"gb4\" href=\"http://www.google.com/history/optout?hl=en\">Web History</a>, <a class=\"gb4\" href=\"/preferences?hl=en\">Settings</a>, <a class=\"gb4\" href=\"https://accounts.google.com/ServiceLogin?hl=en&amp;passive=true&amp;continue=https://www.google.com/\" id=\"gb_70\" target=\"_top\">Sign in</a>, <a href=\"/advanced_search?hl=en&amp;authuser=0\">Advanced search</a>, <a href=\"/language_tools?hl=en&amp;authuser=0\">Language tools</a>, <a href=\"/intl/en/ads/\">Advertising Programs</a>, <a href=\"/services/\">Business Solutions</a>, <a href=\"/intl/en/about.html\">About Google</a>, <a href=\"/intl/en/policies/privacy/\">Privacy</a>, <a href=\"/intl/en/policies/terms/\">Terms</a>]\n"
     ]
    }
   ],
   "source": [
    "#Now that the page source has been processed via BS\n",
    "#we can access specific information directly from it.  For example, you can \n",
    "#pull all of the links on the page\n",
    "links = soup.find_all(\"a\")\n",
    "print(links)"
   ]
  },
  {
   "cell_type": "code",
   "execution_count": 11,
   "metadata": {},
   "outputs": [
    {
     "name": "stdout",
     "output_type": "stream",
     "text": [
      "<a href=\"/intl/en/about.html\">About Google</a>\n",
      "/intl/en/about.html\n"
     ]
    }
   ],
   "source": [
    "#Maybe we want to extract the link that has the text 'About'\n",
    "#on the page instead of every link.  We can use the built-in \"text\" function in bs to access the text\n",
    "#content between the <a> </a> tags\n",
    "\n",
    "for link in links:\n",
    "    if \"About\" in link.text:\n",
    "        print(link)\n",
    "        print(link.attrs['href'])\n",
    "        \n",
    "#every element in links is a bs element\n",
    "#you can call the .text function on that element\n",
    "#look at the text in the link and see if \"About\" is in the text\n"
   ]
  },
  {
   "cell_type": "markdown",
   "metadata": {},
   "source": [
    "### White House Economy Page"
   ]
  },
  {
   "cell_type": "code",
   "execution_count": 20,
   "metadata": {},
   "outputs": [],
   "source": [
    "#Let's obtain the links from the following website:\n",
    "#https://www.whitehouse.gov/issues/economy-jobs/\n",
    "white_house_economy=requests.get(\"https://www.whitehouse.gov/issues/economy-jobs/\")"
   ]
  },
  {
   "cell_type": "code",
   "execution_count": 15,
   "metadata": {},
   "outputs": [
    {
     "name": "stdout",
     "output_type": "stream",
     "text": [
      "{'Content-Type': 'text/html; charset=UTF-8', 'Accept-Ranges': 'bytes', 'Vary': 'Accept-Encoding', 'Content-Encoding': 'gzip', 'Date': 'Sat, 14 Dec 2019 18:05:23 GMT', 'Content-Length': '14665', 'Connection': 'keep-alive', 'Strict-Transport-Security': 'max-age=31536000 ; includeSubDomains ; preload', 'X-Frame-Options': 'SAMEORIGIN'}\n"
     ]
    }
   ],
   "source": [
    "print(white_house_economy.headers)"
   ]
  },
  {
   "cell_type": "code",
   "execution_count": 17,
   "metadata": {},
   "outputs": [],
   "source": [
    "#Now, let us store the page content of the websiet access\n",
    "#from requests to a variable:\n",
    "WH_economy=white_house_economy.content\n",
    "#print(WH_economy)"
   ]
  },
  {
   "cell_type": "code",
   "execution_count": 18,
   "metadata": {},
   "outputs": [],
   "source": [
    "#Now that we have the page source stored, we can use BeautifulSoup module to parse and process the source.\n",
    "#To do this, we need to create a BeautifulSoup object based on the source variable.\n",
    "WH_economy_bs = bs(WH_economy, 'lxml')"
   ]
  },
  {
   "cell_type": "code",
   "execution_count": 22,
   "metadata": {},
   "outputs": [],
   "source": [
    "#Now that the page source has been processed via BS\n",
    "#we can access specific information directly from it.  For example, you can \n",
    "#pull all of the links on the page\n",
    "WH_economy_links = WH_economy_bs.find_all(\"a\")\n",
    "#print(WH_economy_links)"
   ]
  },
  {
   "cell_type": "code",
   "execution_count": 23,
   "metadata": {},
   "outputs": [
    {
     "name": "stdout",
     "output_type": "stream",
     "text": [
      "<a href=\"https://www.whitehouse.gov/briefings-statements/message-congress-united-states-mexico-canada-agreement/\">Message to the Congress on the United States – Mexico – Canada Agreement</a>\n",
      "https://www.whitehouse.gov/briefings-statements/message-congress-united-states-mexico-canada-agreement/\n",
      "<a href=\"https://www.whitehouse.gov/briefings-statements/president-donald-j-trump-secured-historic-phase-one-trade-agreement-china/\">President Donald J. Trump Has Secured a Historic Phase One Trade Agreement with China</a>\n",
      "https://www.whitehouse.gov/briefings-statements/president-donald-j-trump-secured-historic-phase-one-trade-agreement-china/\n",
      "<a href=\"https://www.whitehouse.gov/briefings-statements/wtas-support-president-donald-j-trumps-united-states-mexico-canada-agreement/\">WTAS: Support for President Donald J. Trump’s United States-Mexico-Canada Agreement</a>\n",
      "https://www.whitehouse.gov/briefings-statements/wtas-support-president-donald-j-trumps-united-states-mexico-canada-agreement/\n"
     ]
    }
   ],
   "source": [
    "#Maybe we want to extract the link that has the text 'About'\n",
    "#on the page instead of every link.  We can use the built-in \"text\" function in bs to access the text\n",
    "#content between the <a> </a> tags\n",
    "\n",
    "for link in WH_economy_links:\n",
    "    if \"Agreement\" in link.text:\n",
    "        print(link)\n",
    "        print(link.attrs['href'])\n",
    "        \n",
    "#every element in links is a bs element\n",
    "#you can call the .text function on that element\n",
    "#look at the text in the link and see if \"About\" is in the text"
   ]
  },
  {
   "cell_type": "code",
   "execution_count": 25,
   "metadata": {},
   "outputs": [
    {
     "name": "stdout",
     "output_type": "stream",
     "text": [
      "<a href=\"https://www.whitehouse.gov\">\n",
      "<img alt=\"\" class=\"logo--white\" src=\"https://www.whitehouse.gov/wp-content/themes/whitehouse/assets/img/white-house-logo-sm-wh.png\" srcset=\"https://www.whitehouse.gov/wp-content/themes/whitehouse/assets/img/white-house-logo-sm-wh.png 1x, https://www.whitehouse.gov/wp-content/themes/whitehouse/assets/img/white-house-logo-md-wh.png 2x, https://www.whitehouse.gov/wp-content/themes/whitehouse/assets/img/white-house-logo-lg-wh.png 3x\"/>\n",
      "<img alt=\"\" class=\"logo--blue\" src=\"https://www.whitehouse.gov/wp-content/themes/whitehouse/assets/img/white-house-logo-sm-bl.png\" srcset=\"https://www.whitehouse.gov/wp-content/themes/whitehouse/assets/img/white-house-logo-sm-bl.png 1x, https://www.whitehouse.gov/wp-content/themes/whitehouse/assets/img/white-house-logo-md-bl.png 2x, https://www.whitehouse.gov/wp-content/themes/whitehouse/assets/img/white-house-logo-lg-bl.png 3x\"/>\n",
      "<span class=\"visually-hidden\">White House Logo</span>\n",
      "</a>\n"
     ]
    }
   ],
   "source": [
    "print(WH_economy_links[1])"
   ]
  },
  {
   "cell_type": "code",
   "execution_count": null,
   "metadata": {},
   "outputs": [],
   "source": [
    "urls = []\n",
    "for h2_tag in WH_economy_links.find_all(\"h2\"):\n",
    "    a_tag = h2_tag.find('a')\n",
    "    urls.append(a.tag.attrs['href'])"
   ]
  },
  {
   "cell_type": "code",
   "execution_count": null,
   "metadata": {},
   "outputs": [],
   "source": [
    "print(urls)"
   ]
  },
  {
   "cell_type": "code",
   "execution_count": null,
   "metadata": {},
   "outputs": [],
   "source": []
  }
 ],
 "metadata": {
  "kernelspec": {
   "display_name": "Python 3",
   "language": "python",
   "name": "python3"
  },
  "language_info": {
   "codemirror_mode": {
    "name": "ipython",
    "version": 3
   },
   "file_extension": ".py",
   "mimetype": "text/x-python",
   "name": "python",
   "nbconvert_exporter": "python",
   "pygments_lexer": "ipython3",
   "version": "3.7.3"
  }
 },
 "nbformat": 4,
 "nbformat_minor": 4
}
